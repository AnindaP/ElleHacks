{
 "cells": [
  {
   "cell_type": "code",
   "execution_count": 46,
   "metadata": {},
   "outputs": [],
   "source": [
    "import os, io\n",
    "from google.cloud import language\n",
    "import argparse\n",
    "from google.cloud.language import enums\n",
    "from google.cloud.language import types\n"
   ]
  },
  {
   "cell_type": "code",
   "execution_count": 47,
   "metadata": {},
   "outputs": [],
   "source": [
    "ids = []"
   ]
  },
  {
   "cell_type": "code",
   "execution_count": 48,
   "metadata": {},
   "outputs": [],
   "source": [
    "def analyze():\n",
    "    os.environ['GOOGLE_APPLICATION_CREDENTIALS'] = r'My First Project-028f65193e6d.json'\n",
    "    client = language.LanguageServiceClient()\n",
    "    movie_review_filename = 'movie_review_filename.txt'\n",
    "    \n",
    "    with open(movie_review_filename, 'r') as review_file:\n",
    "        # Instantiates a plain text document.\n",
    "        content = review_file.read()\n",
    "\n",
    "    document = types.Document(\n",
    "        content=content,\n",
    "        type=enums.Document.Type.PLAIN_TEXT)\n",
    "    annotations = client.analyze_sentiment(document=document)\n",
    "\n",
    "    # Print the results\n",
    "    print_result(annotations)"
   ]
  },
  {
   "cell_type": "code",
   "execution_count": 49,
   "metadata": {},
   "outputs": [],
   "source": [
    "def print_result(annotations):\n",
    "    score = annotations.document_sentiment.score\n",
    "    magnitude = annotations.document_sentiment.magnitude\n",
    "\n",
    "    for index, sentence in enumerate(annotations.sentences):\n",
    "        sentence_sentiment = sentence.sentiment.score\n",
    "        print('Sentence {} has a sentiment score of {}'.format(\n",
    "            index, sentence_sentiment))\n",
    "\n",
    "    print('Overall Sentiment: score of {} with magnitude of {}'.format(\n",
    "        score, magnitude))\n",
    "    if score<0 and magnitude > 0:\n",
    "        print('neg')\n",
    "        return 1\n",
    "    else:\n",
    "        print('pos')\n",
    "        return 0"
   ]
  },
  {
   "cell_type": "code",
   "execution_count": 50,
   "metadata": {},
   "outputs": [],
   "source": [
    "def analyze(text):\n",
    "    document = types.Document(\n",
    "        content=text,\n",
    "        type=enums.Document.Type.PLAIN_TEXT)\n",
    "    os.environ['GOOGLE_APPLICATION_CREDENTIALS'] = r'My First Project-028f65193e6d.json'\n",
    "    client = language.LanguageServiceClient()\n",
    "    #doc = client.document_from_text(text)\n",
    "    annotations = client.analyze_sentiment(document = document)\n",
    "    # Print the results\n",
    "    negative = print_result(annotations)\n",
    "    \n",
    "    \n",
    "    if(negative):\n",
    "        ids.append(sendId)\n",
    "        return sendId\n",
    "    "
   ]
  },
  {
   "cell_type": "code",
   "execution_count": 51,
   "metadata": {},
   "outputs": [
    {
     "name": "stdout",
     "output_type": "stream",
     "text": [
      "20\n",
      "why are you so fucking stupid\n",
      "Sentence 0 has a sentiment score of -0.8999999761581421\n",
      "Overall Sentiment: score of -0.8999999761581421 with magnitude of 0.8999999761581421\n",
      "neg\n",
      "stupid pig\n",
      "Sentence 0 has a sentiment score of -0.6000000238418579\n",
      "Overall Sentiment: score of -0.6000000238418579 with magnitude of 0.6000000238418579\n",
      "neg\n",
      "even though she is the top tier dancer and second best rapper, she somehow manages to improve her vocals so much since minx redebuted, she now even gets chorus lines (eg. in you and i, chase me, dejavu etc.). Also, her visuals are also amazing. is she even real?\n",
      "Sentence 0 has a sentiment score of 0.6000000238418579\n",
      "Sentence 1 has a sentiment score of 0.8999999761581421\n",
      "Sentence 2 has a sentiment score of -0.10000000149011612\n",
      "Overall Sentiment: score of 0.5 with magnitude of 1.7000000476837158\n",
      "pos\n",
      "Queen Sua ♥️ loml 😂\n",
      "Sentence 0 has a sentiment score of 0.20000000298023224\n",
      "Overall Sentiment: score of 0.20000000298023224 with magnitude of 0.20000000298023224\n",
      "pos\n",
      "<a href=\"https://www.youtube.com/watch?v=j0OPI4hK4BQ&amp;t=1m31s\">1:31</a> poor SuA =)))))\n",
      "Sentence 0 has a sentiment score of -0.4000000059604645\n",
      "Overall Sentiment: score of -0.4000000059604645 with magnitude of 0.4000000059604645\n",
      "neg\n",
      "And this day. This day Sua&#39;s birthday! I love you SUA!!!\n",
      "Sentence 0 has a sentiment score of 0.0\n",
      "Sentence 1 has a sentiment score of 0.0\n",
      "Sentence 2 has a sentiment score of 0.800000011920929\n",
      "Overall Sentiment: score of 0.20000000298023224 with magnitude of 0.8999999761581421\n",
      "pos\n",
      "What show in <a href=\"https://www.youtube.com/watch?v=j0OPI4hK4BQ&amp;t=1m11s\">1:11</a>???\n",
      "Sentence 0 has a sentiment score of -0.20000000298023224\n",
      "Overall Sentiment: score of -0.20000000298023224 with magnitude of 0.20000000298023224\n",
      "neg\n",
      "SuA has been my bias ever since MINX debuted and this video confirms it :’) MY QUEEN SLAYYY!!\n",
      "Sentence 0 has a sentiment score of 0.0\n",
      "Overall Sentiment: score of 0.0 with magnitude of 0.0\n",
      "pos\n",
      "In case you guys haven&#39;t seen it, I would <b>highly</b> suggest watching her dance cover of Anaconda.\n",
      "Sentence 0 has a sentiment score of 0.30000001192092896\n",
      "Overall Sentiment: score of 0.30000001192092896 with magnitude of 0.30000001192092896\n",
      "pos\n",
      "And she makes choreographies now!!\n",
      "Sentence 0 has a sentiment score of 0.10000000149011612\n",
      "Overall Sentiment: score of 0.10000000149011612 with magnitude of 0.10000000149011612\n",
      "pos\n",
      "Golden member\n",
      "Sentence 0 has a sentiment score of 0.10000000149011612\n",
      "Overall Sentiment: score of 0.10000000149011612 with magnitude of 0.10000000149011612\n",
      "pos\n",
      "You forgot to mention that she&#39;s hot as fck. But good video haha!\n",
      "Sentence 0 has a sentiment score of -0.699999988079071\n",
      "Sentence 1 has a sentiment score of 0.699999988079071\n",
      "Overall Sentiment: score of 0.0 with magnitude of 1.399999976158142\n",
      "pos\n",
      "<a href=\"https://www.youtube.com/watch?v=j0OPI4hK4BQ&amp;t=0m02s\">0:02</a> what is this song?\n",
      "Sentence 0 has a sentiment score of 0.0\n",
      "Overall Sentiment: score of 0.0 with magnitude of 0.0\n",
      "pos\n",
      "Where I can get full bonus video?\n",
      "Sentence 0 has a sentiment score of 0.10000000149011612\n",
      "Overall Sentiment: score of 0.10000000149011612 with magnitude of 0.10000000149011612\n",
      "pos\n",
      "dance, rap and sing <br />Queen\n",
      "Sentence 0 has a sentiment score of 0.699999988079071\n",
      "Overall Sentiment: score of 0.699999988079071 with magnitude of 0.699999988079071\n",
      "pos\n",
      "I remember MINX era. I liked her rap !!\n",
      "Sentence 0 has a sentiment score of 0.4000000059604645\n",
      "Sentence 1 has a sentiment score of 0.6000000238418579\n",
      "Overall Sentiment: score of 0.5 with magnitude of 1.0\n",
      "pos\n",
      "queen\n",
      "Sentence 0 has a sentiment score of 0.10000000149011612\n",
      "Overall Sentiment: score of 0.10000000149011612 with magnitude of 0.10000000149011612\n",
      "pos\n",
      "Mixnine is such a joke and YG is so stupid. How can Sua not be accepted on mixnine? She&#39;s indeed multitalented. Can sing, dance, rap, even got the visuals.\n",
      "Sentence 0 has a sentiment score of -0.8999999761581421\n",
      "Sentence 1 has a sentiment score of 0.0\n",
      "Sentence 2 has a sentiment score of 0.0\n",
      "Sentence 3 has a sentiment score of 0.699999988079071\n",
      "Overall Sentiment: score of 0.0 with magnitude of 1.7000000476837158\n",
      "pos\n",
      "Stupid yg\n",
      "Sentence 0 has a sentiment score of -0.6000000238418579\n",
      "Overall Sentiment: score of -0.6000000238418579 with magnitude of 0.6000000238418579\n",
      "neg\n",
      "the singer the dancer the rapper<br />the visual<br />ladies and gentleman, the quadruple threat<br />Kim Bora\n",
      "Sentence 0 has a sentiment score of -0.10000000149011612\n",
      "Overall Sentiment: score of -0.10000000149011612 with magnitude of 0.10000000149011612\n",
      "neg\n"
     ]
    }
   ],
   "source": [
    "import json\n",
    "\n",
    "with open(\"video1.json\", encoding=\"utf8\") as file:\n",
    "    #item = input(\"Enter item name: \")\n",
    "    reader = json.load(file)\n",
    "    #print(reader)\n",
    "    #print(reader['items'])\n",
    "    items = reader['items']\n",
    "    lenItems = len(items)\n",
    "    print(lenItems)\n",
    "    text0 = ''\n",
    "    sendId = ''\n",
    "    \n",
    "    count = 0\n",
    "    while count < lenItems:\n",
    "        items0 = items[count]\n",
    "        snippet = items0['snippet']\n",
    "        topLevelComment = snippet['topLevelComment']\n",
    "        sendId = topLevelComment['id']\n",
    "        snippet2 = topLevelComment['snippet']\n",
    "        textDisplay = snippet2['textDisplay']\n",
    "        text0 = textDisplay\n",
    "        print(textDisplay)\n",
    "        analyze(text0)\n",
    "        count += 1  # This is the same as count = count + 1"
   ]
  },
  {
   "cell_type": "code",
   "execution_count": 52,
   "metadata": {},
   "outputs": [
    {
     "name": "stdout",
     "output_type": "stream",
     "text": [
      "Ugze_pHsWNYmWbafAuZ4AaABAg\n",
      "Ugz8p3onYH9YdrjZqcJ4AaABAg\n",
      "UgxCI97zzo4HAsAMpxB4AaABAg\n",
      "UgwHEwDosiACc3ionXd4AaABAg\n",
      "UgzVKG18GF56akHNrNd4AaABAg\n",
      "Ugy4V3PJ3oAhklOHTJZ4AaABAg\n"
     ]
    }
   ],
   "source": [
    "for i in range(len(ids)):\n",
    "    print(ids[i])"
   ]
  },
  {
   "cell_type": "code",
   "execution_count": null,
   "metadata": {},
   "outputs": [],
   "source": []
  },
  {
   "cell_type": "code",
   "execution_count": 53,
   "metadata": {},
   "outputs": [
    {
     "ename": "TypeError",
     "evalue": "analyze() missing 1 required positional argument: 'text'",
     "output_type": "error",
     "traceback": [
      "\u001b[1;31m---------------------------------------------------------------------------\u001b[0m",
      "\u001b[1;31mTypeError\u001b[0m                                 Traceback (most recent call last)",
      "\u001b[1;32m<ipython-input-53-60eba356682e>\u001b[0m in \u001b[0;36m<module>\u001b[1;34m()\u001b[0m\n\u001b[1;32m----> 1\u001b[1;33m \u001b[0manalyze\u001b[0m\u001b[1;33m(\u001b[0m\u001b[1;33m)\u001b[0m\u001b[1;33m\u001b[0m\u001b[0m\n\u001b[0m",
      "\u001b[1;31mTypeError\u001b[0m: analyze() missing 1 required positional argument: 'text'"
     ]
    }
   ],
   "source": [
    "analyze()"
   ]
  },
  {
   "cell_type": "code",
   "execution_count": null,
   "metadata": {},
   "outputs": [],
   "source": []
  },
  {
   "cell_type": "code",
   "execution_count": null,
   "metadata": {},
   "outputs": [],
   "source": [
    "analyze(\"what the fuck is wrong with you?\")  "
   ]
  },
  {
   "cell_type": "code",
   "execution_count": null,
   "metadata": {},
   "outputs": [],
   "source": []
  }
 ],
 "metadata": {
  "kernelspec": {
   "display_name": "Python [default]",
   "language": "python",
   "name": "python3"
  },
  "language_info": {
   "codemirror_mode": {
    "name": "ipython",
    "version": 3
   },
   "file_extension": ".py",
   "mimetype": "text/x-python",
   "name": "python",
   "nbconvert_exporter": "python",
   "pygments_lexer": "ipython3",
   "version": "3.5.6"
  }
 },
 "nbformat": 4,
 "nbformat_minor": 4
}
