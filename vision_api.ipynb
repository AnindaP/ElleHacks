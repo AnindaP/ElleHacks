{
 "cells": [
  {
   "cell_type": "code",
   "execution_count": 2,
   "metadata": {},
   "outputs": [
    {
     "data": {
      "text/plain": [
       "safe_search_annotation {\n",
       "  adult: VERY_UNLIKELY\n",
       "  spoof: VERY_UNLIKELY\n",
       "  medical: VERY_UNLIKELY\n",
       "  violence: POSSIBLE\n",
       "  racy: VERY_UNLIKELY\n",
       "}"
      ]
     },
     "execution_count": 2,
     "metadata": {},
     "output_type": "execute_result"
    }
   ],
   "source": [
    "import os, io\n",
    "from google.cloud import vision\n",
    "from google.cloud.vision import types\n",
    "\n",
    "os.environ['GOOGLE_APPLICATION_CREDENTIALS'] = r'My First Project-028f65193e6d.json'\n",
    "client = vision.ImageAnnotatorClient()\n",
    "\n",
    "file_name = 'blood.jpg'\n",
    "\n",
    "with io.open(file_name, 'rb') as file_name:\n",
    "    content = file_name.read()\n",
    "\n",
    "image = vision.types.Image(content = content)\n",
    "response = client.safe_search_detection(image=image) \n",
    "\n",
    "response\n",
    "    "
   ]
  }
 ],
 "metadata": {
  "kernelspec": {
   "display_name": "Python [default]",
   "language": "python",
   "name": "python3"
  },
  "language_info": {
   "codemirror_mode": {
    "name": "ipython",
    "version": 3
   },
   "file_extension": ".py",
   "mimetype": "text/x-python",
   "name": "python",
   "nbconvert_exporter": "python",
   "pygments_lexer": "ipython3",
   "version": "3.5.6"
  }
 },
 "nbformat": 4,
 "nbformat_minor": 4
}
